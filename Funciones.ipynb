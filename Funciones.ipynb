{
 "cells": [
  {
   "cell_type": "markdown",
   "metadata": {},
   "source": [
    "# Archivos usados"
   ]
  },
  {
   "cell_type": "code",
   "execution_count": 1,
   "metadata": {},
   "outputs": [],
   "source": [
    "# Archivos que se cargaron para cada función\n",
    "\n",
    "import pandas as pd\n",
    "\n",
    "df_reviews = pd.read_parquet(\"reviews_limpio.parquet\")\n",
    "df_items = pd.read_parquet(\"items_limpia.parquet\")\n",
    "df_games = pd.read_parquet(\"games_limpio.parquet\")"
   ]
  },
  {
   "cell_type": "markdown",
   "metadata": {},
   "source": [
    "# PlayTimeGenre\n",
    "Devuelve el año con mas horas jugadas para dicho género."
   ]
  },
  {
   "cell_type": "code",
   "execution_count": 2,
   "metadata": {},
   "outputs": [],
   "source": [
    "df_games.rename(columns={'id': 'item_id'}, inplace=True)"
   ]
  },
  {
   "cell_type": "code",
   "execution_count": 3,
   "metadata": {},
   "outputs": [],
   "source": [
    "# Modificaciones a los dataframes \n",
    "playtiem_item = df_items.groupby('item_id')['playtime_forever'].sum().reset_index()\n",
    "df_merge = pd.merge(df_games, playtiem_item, on='item_id', how='inner')\n",
    "df_PlayTimeGenre = df_merge[[\"genres\",\"año_lanzamiento\",\"playtime_forever\"]]\n",
    "df_PlayTimeGenre =df_PlayTimeGenre.dropna()\n",
    "df_PlayTimeGenre.to_parquet(r'df_PlayTimeGenre.parquet',index=False)"
   ]
  },
  {
   "cell_type": "code",
   "execution_count": 6,
   "metadata": {},
   "outputs": [
    {
     "data": {
      "text/plain": [
       "{'Año de lanzamiento con más horas jugadas para Género el Indie': 2006}"
      ]
     },
     "execution_count": 6,
     "metadata": {},
     "output_type": "execute_result"
    }
   ],
   "source": [
    "def PlayTimeGenre(genero : str):\n",
    "    # Filtrar el DataFrame para obtener solo las filas que contienen el género específico\n",
    "    filtro_genero = df_PlayTimeGenre['genres'].str.contains(genero, case=False, na=False)\n",
    "    df_filtrado = df_PlayTimeGenre[filtro_genero]\n",
    "    df_agrupado = df_filtrado.groupby('año_lanzamiento')['playtime_forever'].sum().reset_index()\n",
    "    # Encontrar el año con la mayor suma de 'playtime_forever'\n",
    "    df_agrupado['año_lanzamiento'] = df_agrupado['año_lanzamiento'].astype(int)\n",
    "    anio_mayor_suma = df_agrupado.loc[df_agrupado['playtime_forever'].idxmax(), 'año_lanzamiento']\n",
    "    respuesta = {f\"Año de lanzamiento con más horas jugadas para Género el {genero}\": anio_mayor_suma}\n",
    "    return respuesta \n",
    "\n",
    "PlayTimeGenre(\"Indie\")"
   ]
  },
  {
   "cell_type": "markdown",
   "metadata": {},
   "source": [
    "# UseForGenre\n",
    "Devuelve el usuario que mas horas ha acumulado para un género establecido y una lista de acumulación de horas jugadas por año."
   ]
  },
  {
   "cell_type": "code",
   "execution_count": 8,
   "metadata": {},
   "outputs": [],
   "source": [
    "df_aux = df_games[[\"item_id\",\"genres\",\"año_lanzamiento\"]]\n",
    "df_UserForGenre = pd.merge(df_items,df_aux, on = \"item_id\")\n",
    "df_UserForGenre =df_UserForGenre[[\"user_id\",\"genres\",\"año_lanzamiento\",\"playtime_forever\"]]\n",
    "def eliminar_outliers_iqr(df, columna):\n",
    "    # Calcular el rango intercuartílico (IQR)\n",
    "    Q1 = df[columna].quantile(0.25)\n",
    "    Q3 = df[columna].quantile(0.75)\n",
    "    IQR = Q3 - Q1\n",
    "    # Definir los límites superior e inferior para identificar outliers\n",
    "    limite_inferior = Q1 - 1.5 * IQR\n",
    "    limite_superior = Q3 + 1.5 * IQR\n",
    "    # Filtrar el DataFrame para mantener solo los valores dentro de los límites\n",
    "    df_filtrado = df[(df[columna] >= limite_inferior) & (df[columna] <= limite_superior)]\n",
    "    return df_filtrado\n",
    "\n",
    "# Ejemplo\n",
    "# Suponiendo que 'df' es tu DataFrame y 'valor' es la columna que contiene los datos\n",
    "df_UserForGenre = eliminar_outliers_iqr(df_UserForGenre, 'playtime_forever')\n",
    "df_UserForGenre.to_parquet(r'df_UserForGenre.parquet',index=False)"
   ]
  },
  {
   "cell_type": "code",
   "execution_count": 9,
   "metadata": {},
   "outputs": [
    {
     "data": {
      "text/plain": [
       "{'Usuario con más horas jugadas para Género actIon:': 'phrostb',\n",
       " 'Horas jugadas': [{'Año': 1988, 'Horas': 92},\n",
       "  {'Año': 1989, 'Horas': 0},\n",
       "  {'Año': 1990, 'Horas': 0},\n",
       "  {'Año': 1991, 'Horas': 0},\n",
       "  {'Año': 1992, 'Horas': 0},\n",
       "  {'Año': 1993, 'Horas': 1384},\n",
       "  {'Año': 1994, 'Horas': 623},\n",
       "  {'Año': 1995, 'Horas': 931},\n",
       "  {'Año': 1996, 'Horas': 589},\n",
       "  {'Año': 1997, 'Horas': 1005},\n",
       "  {'Año': 1998, 'Horas': 202},\n",
       "  {'Año': 1999, 'Horas': 512},\n",
       "  {'Año': 2000, 'Horas': 635},\n",
       "  {'Año': 2001, 'Horas': 400},\n",
       "  {'Año': 2002, 'Horas': 737},\n",
       "  {'Año': 2003, 'Horas': 657},\n",
       "  {'Año': 2004, 'Horas': 375},\n",
       "  {'Año': 2005, 'Horas': 1121},\n",
       "  {'Año': 2006, 'Horas': 1396},\n",
       "  {'Año': 2007, 'Horas': 1283},\n",
       "  {'Año': 2008, 'Horas': 331},\n",
       "  {'Año': 2009, 'Horas': 3960},\n",
       "  {'Año': 2010, 'Horas': 3944},\n",
       "  {'Año': 2011, 'Horas': 5056},\n",
       "  {'Año': 2012, 'Horas': 13119},\n",
       "  {'Año': 2013, 'Horas': 24141},\n",
       "  {'Año': 2014, 'Horas': 53481},\n",
       "  {'Año': 2015, 'Horas': 124185},\n",
       "  {'Año': 2016, 'Horas': 68425},\n",
       "  {'Año': 2017, 'Horas': 4474},\n",
       "  {'Año': 2018, 'Horas': 0}]}"
      ]
     },
     "execution_count": 9,
     "metadata": {},
     "output_type": "execute_result"
    }
   ],
   "source": [
    "def userforgenre(genero: str):\n",
    "    # Filtrar el DataFrame para el género especificado\n",
    "    filtro_genero = df_UserForGenre['genres'].str.contains(genero, case=False, na=False)\n",
    "    df_filtrado = df_UserForGenre[filtro_genero]\n",
    "\n",
    "    # Agrupar por 'user_id' y 'year', sumar las horas jugadas\n",
    "    df_agrupado = df_filtrado.groupby(['user_id', 'año_lanzamiento'])['playtime_forever'].sum().reset_index()\n",
    "\n",
    "    # Encontrar el usuario con la máxima suma de horas jugadas\n",
    "    idx_max_playtime = df_agrupado['playtime_forever'].idxmax()\n",
    "    usuario_max_playtime = df_agrupado.loc[idx_max_playtime, 'user_id']\n",
    "\n",
    "    # Filtrar el DataFrame para el usuario con máxima suma de horas jugadas\n",
    "    df_usuario = df_agrupado[df_agrupado['user_id'] == usuario_max_playtime]\n",
    "\n",
    "    # Crear el formato \"Horas jugadas\"\n",
    "    resultado_final = [{'Año': int(row['año_lanzamiento']), 'Horas': int(row['playtime_forever'])} for _, row in df_usuario.iterrows()]\n",
    "    \n",
    "    return {\"Usuario con más horas jugadas para Género {}:\".format(genero): usuario_max_playtime, \"Horas jugadas\": resultado_final}\n",
    "\n",
    "# Ejemplo de uso\n",
    "userforgenre('actIon')"
   ]
  },
  {
   "cell_type": "markdown",
   "metadata": {},
   "source": [
    "# UserRecommend\n",
    "Devuelve el top de los tres juegos más recomendados por usuarios para un cierto año"
   ]
  },
  {
   "cell_type": "code",
   "execution_count": 14,
   "metadata": {},
   "outputs": [],
   "source": [
    "# Cambio de formatos \n",
    "# La columna 'posted' se encuentra en formato string y se cambiara a un formato de fechas en una nueva columna llamada 'posted_date'\n",
    "import re\n",
    "from datetime import datetime\n",
    "# Define una función para convertir las fechas\n",
    "def convertir_a_fecha(fecha_str):\n",
    "    # Usar una expresión regular para extraer el mes, el día y el año\n",
    "    match = re.search(r'(\\w+) (\\d+), (\\d+)', fecha_str)\n",
    "    if match:\n",
    "        mes_str, dia, año = match.groups()\n",
    "        mes = datetime.strptime(mes_str, \"%B\").month  # Convertir el nombre del mes a número\n",
    "        fecha = datetime(int(año), mes, int(dia))\n",
    "        return fecha\n",
    "    else:\n",
    "        return None\n",
    "\n",
    "# Aplica la función para convertir la columna 'posted_date' a formato de fecha\n",
    "df_reviews['posted_date'] = df_reviews['posted'].apply(convertir_a_fecha)\n",
    "\n",
    "# Eliminar los valores que no tienen un año especifico por lo que se asumiran como datos nulos\n",
    "df_reviews = df_reviews.dropna(subset=['posted_date'])\n",
    "\n",
    "# Eliminar las filas con datos nulos de la columna review\n",
    "df_reviews = df_reviews.dropna(subset=['review'])\n",
    "\n",
    "# Eliminar las filas duplicadas\n",
    "df_reviews = df_reviews.drop_duplicates(keep='first')\n",
    "\n",
    "# Convertir los datos de la columna 'item_id' a formato entero\n",
    "df_reviews['item_id'] = df_reviews['item_id'].astype(int)\n",
    "\n",
    "#Eliminar la columna 'posted' que ya no sera utilizada y las columnas 'funny' y 'last edited' que tienen muchos nulos y no serviran para el analisis\n",
    "df_reviews = df_reviews.drop('posted', axis=1)\n",
    "df_reviews = df_reviews.drop('funny', axis=1)\n",
    "df_reviews = df_reviews.drop('last_edited', axis=1)"
   ]
  },
  {
   "cell_type": "code",
   "execution_count": 16,
   "metadata": {},
   "outputs": [],
   "source": [
    "df_reviews[\"posted_date\"] = pd.to_datetime(df_reviews[\"posted_date\"])\n",
    "df_reviews[\"year_posted\"] = df_reviews[\"posted_date\"].dt.year\n",
    "df_UserRecommend = df_reviews[['item_id',\"recommend\",'year_posted']]\n",
    "df_aux= df_games[[\"item_id\",\"title\"]]\n",
    "df_UserRecommend = pd.merge(df_UserRecommend,df_aux, on=\"item_id\", how=\"inner\")\n",
    "df_UserRecommend = df_UserRecommend[['title','year_posted',\"recommend\"]]\n",
    "df_UserRecommend.to_parquet(r'df_UserRecommend.parquet',index=False)"
   ]
  },
  {
   "cell_type": "code",
   "execution_count": 17,
   "metadata": {},
   "outputs": [
    {
     "data": {
      "text/plain": [
       "[{'Puesto 1: Terraria': 168},\n",
       " {\"Puesto 2: Garry's Mod\": 76},\n",
       " {'Puesto 3: Portal 2': 58}]"
      ]
     },
     "execution_count": 17,
     "metadata": {},
     "output_type": "execute_result"
    }
   ],
   "source": [
    "def UsersRecommend(año: int):\n",
    "    \n",
    "    df = df_UserRecommend[(df_UserRecommend['year_posted'] == año) & (df_UserRecommend['recommend'] == True)]\n",
    "    # Contar el número de recomendaciones para cada juego\n",
    "    top_juegos = df['title'].value_counts().head(3)\n",
    "    # Crear el formato de salida\n",
    "    resultado_final = [{\"Puesto {}: {}\".format(i+1, juego): recomendaciones} for i, (juego, recomendaciones) in enumerate(top_juegos.items())]\n",
    "    return resultado_final\n",
    "\n",
    "# Ejemplo de uso\n",
    "UsersRecommend(2012)"
   ]
  },
  {
   "cell_type": "markdown",
   "metadata": {},
   "source": [
    "# UsersNotRecommend\n",
    "Devuelve el top de 3 juegos menos recomendados por usuarios para el año dado."
   ]
  },
  {
   "cell_type": "code",
   "execution_count": 18,
   "metadata": {},
   "outputs": [],
   "source": [
    "df_reviews.head(5)\n",
    "df_UserWorstDeveloper = df_reviews[[\"item_id\",\"recommend\",\"year_posted\"]]\n",
    "df_info = df_games[[\"item_id\",\"developer\"]]\n",
    "df_UserWorstDeveloper = pd.merge(df_UserWorstDeveloper,df_info, on =\"item_id\",how= \"inner\")\n",
    "df_UserWorstDeveloper = df_UserWorstDeveloper[(df_UserWorstDeveloper['recommend'] == False)]\n",
    "df_UserWorstDeveloper = df_UserWorstDeveloper[[\"developer\", \"year_posted\"]]\n",
    "df_UserWorstDeveloper.to_parquet(r'df_UserWorstDeveloper.parquet',index=False)"
   ]
  },
  {
   "cell_type": "code",
   "execution_count": 19,
   "metadata": {},
   "outputs": [
    {
     "data": {
      "text/plain": [
       "[{'Puesto 1: Coreplay GmbH,Bigmoon Studios': 3},\n",
       " {'Puesto 2: OVERKILL Software': 1},\n",
       " {'Puesto 3: Slant Six Games': 1}]"
      ]
     },
     "execution_count": 19,
     "metadata": {},
     "output_type": "execute_result"
    }
   ],
   "source": [
    "def UserWorstDeveloper(year):\n",
    "    # Filtrar el DataFrame por el año especificado\n",
    "    df_filtered = df_UserWorstDeveloper[df_UserWorstDeveloper['year_posted'] == year]\n",
    "    # Contar la cantidad de publicaciones por desarrollador\n",
    "    developer_counts = df_filtered['developer'].value_counts()\n",
    "    # Tomar los primeros N resultados\n",
    "    top_developers = developer_counts.head(3)\n",
    "    # Crear la lista con el formato solicitado\n",
    "    result_list = [{\"Puesto {}: {}\".format(i + 1, developer): count} for i, (developer, count) in enumerate(top_developers.items())]\n",
    "\n",
    "    return result_list\n",
    "UserWorstDeveloper(2012)"
   ]
  },
  {
   "cell_type": "markdown",
   "metadata": {},
   "source": [
    "# Sentiment_analysis\n",
    "Según la empresa desarrolladora, se devuelve un diccionario con el nombre de la desarrolladora como llave y una lista con la cantidad total de registros de reseñas de usuarios que se encuentren categorizados con un análisis de sentimiento como valor."
   ]
  },
  {
   "cell_type": "code",
   "execution_count": 20,
   "metadata": {},
   "outputs": [],
   "source": [
    "df_10 = df_reviews[[\"item_id\",\"sentiment_analysis\"]]\n",
    "df_11 = df_games[[\"developer\",\"item_id\"]]\n",
    "df_Sentiment_Analysis = pd.merge(df_10,df_11, on = \"item_id\", how= \"inner\") \n",
    "df_Sentiment_Analysis = df_Sentiment_Analysis.groupby(['developer', 'sentiment_analysis']).size().unstack(fill_value=0)\n",
    "df_Sentiment_Analysis = df_Sentiment_Analysis.reset_index(drop=False)\n",
    "nuevos_nombres = [\"Developer\",'Negativo', 'Neutro',\"Positivo\"]\n",
    "df_Sentiment_Analysis.columns = nuevos_nombres\n",
    "df_Sentiment_Analysis[\"Developer\"] = df_Sentiment_Analysis[\"Developer\"].astype(str).str.lower()\n",
    "df_Sentiment_Analysis.to_parquet(\"df_Sentiment_Analysis.parquet\", index=False )"
   ]
  },
  {
   "cell_type": "code",
   "execution_count": 21,
   "metadata": {},
   "outputs": [
    {
     "data": {
      "text/plain": [
       "{'11 bit studios': {'Negative': 57, 'Neutral': 24, 'Positive': 57}}"
      ]
     },
     "execution_count": 21,
     "metadata": {},
     "output_type": "execute_result"
    }
   ],
   "source": [
    "def Sentiment_analysis(desarrollador):\n",
    "    # Filtra el DataFrame para obtener la fila correspondiente al desarrollador\n",
    "    desarrollador =desarrollador.lower()\n",
    "    desarrollador_fila = df_Sentiment_Analysis[df_Sentiment_Analysis['Developer'] == desarrollador]\n",
    "    # Extrae los valores de las columnas Negativo, Neutro y Positivo\n",
    "    negativo = desarrollador_fila['Negativo'].values[0]\n",
    "    neutro = desarrollador_fila['Neutro'].values[0]\n",
    "    positivo = desarrollador_fila['Positivo'].values[0]\n",
    "    # Crea un diccionario con la información en el formato solicitado\n",
    "    resultado = {\n",
    "        desarrollador: {\n",
    "            'Negative': negativo,\n",
    "            'Neutral': neutro,\n",
    "            'Positive': positivo\n",
    "        }\n",
    "    }\n",
    "\n",
    "    return resultado\n",
    "Sentiment_analysis('11 bit studios')"
   ]
  },
  {
   "cell_type": "markdown",
   "metadata": {},
   "source": [
    "# Machine_Learning"
   ]
  },
  {
   "cell_type": "code",
   "execution_count": 12,
   "metadata": {},
   "outputs": [],
   "source": [
    "import pandas as pd\n",
    "# Arreglo de los dataframes para el sistema de recomendacion \n",
    "df_reviews = pd.read_parquet(\"reviews_limpio.parquet\")\n",
    "df_games = pd.read_parquet(\"games_limpio.parquet\")\n",
    "df_games.rename(columns={'id': 'item_id'}, inplace=True)\n",
    "df_games=df_games[[\"item_id\",\"title\"]]\n",
    "df_reviews = df_reviews[[\"user_id\",\"item_id\",\"recommend\"]]\n",
    "df = pd.merge(df_reviews,df_games, on=\"item_id\", how=\"inner\")\n",
    "df = df[[\"item_id\",\"title\",\"recommend\"]]\n",
    "df_filtered = df[df['recommend'] == True]\n",
    "df = df.astype(str)\n",
    "df.to_parquet(\"df_ML.parquet\", index= False)"
   ]
  },
  {
   "cell_type": "code",
   "execution_count": 14,
   "metadata": {},
   "outputs": [
    {
     "data": {
      "text/plain": [
       "['弹炸人2222',\n",
       " '! That Bastard Is Trying To Steal Our Gold !',\n",
       " 'ReturnState',\n",
       " 'Revenge of the Titans',\n",
       " 'Revenge of the Spirit: Rite of Resurrection']"
      ]
     },
     "execution_count": 14,
     "metadata": {},
     "output_type": "execute_result"
    }
   ],
   "source": [
    "from sklearn.feature_extraction.text import CountVectorizer\n",
    "from sklearn.metrics.pairwise import cosine_similarity\n",
    "\n",
    "def recomendacion_usuario(user_id :str):\n",
    "    # Construye una matriz de usuarios y juegos\n",
    "    user_game_matrix = pd.crosstab(df_reviews['user_id'], df_games['title'])\n",
    "    try:\n",
    "        # Encuentra el índice del usuario en la matriz\n",
    "        user_index = user_game_matrix.index.get_loc(user_id)\n",
    "    except KeyError:\n",
    "        print(f\"El usuario {user_id} no está presente en los datos.\")\n",
    "        return None\n",
    "    # Calcula la similitud de coseno entre los usuarios\n",
    "    cosine_similarities = cosine_similarity(user_game_matrix, user_game_matrix)\n",
    "    # Obtén las similitudes de coseno para el usuario dado\n",
    "    similar_users = cosine_similarities[user_index]\n",
    "    # Encuentra los juegos que el usuario no ha jugado\n",
    "    games_played = user_game_matrix.loc[user_id]\n",
    "    unrated_games = games_played[games_played == 0].index\n",
    "    # Calcula las puntuaciones de recomendación sumando las similitudes de usuarios para los juegos no jugados\n",
    "    recommendation_scores = user_game_matrix.loc[:, unrated_games].multiply(similar_users, axis=0).sum(axis=0)\n",
    "    # Ordena las recomendaciones por puntuación descendente\n",
    "    recommendations = recommendation_scores.sort_values(ascending=False).index.tolist()\n",
    "    # Limita las recomendaciones a 5 juegos\n",
    "    top_recommendations = recommendations[:5]\n",
    "\n",
    "    return top_recommendations\n",
    "\n",
    "# Ingresando el id de un usuario, deberíamos recibir una lista con 5 juegos recomendados para dicho usuario.\n",
    "usuario_a_recomendar = \"76561197970982479\"\n",
    "recomendacion_usuario('76561197970982479')"
   ]
  }
 ],
 "metadata": {
  "kernelspec": {
   "display_name": "Python 3",
   "language": "python",
   "name": "python3"
  },
  "language_info": {
   "codemirror_mode": {
    "name": "ipython",
    "version": 3
   },
   "file_extension": ".py",
   "mimetype": "text/x-python",
   "name": "python",
   "nbconvert_exporter": "python",
   "pygments_lexer": "ipython3",
   "version": "3.11.4"
  }
 },
 "nbformat": 4,
 "nbformat_minor": 2
}
